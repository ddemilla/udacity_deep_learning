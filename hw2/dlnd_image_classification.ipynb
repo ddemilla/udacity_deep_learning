{
 "cells": [
  {
   "cell_type": "markdown",
   "metadata": {
    "collapsed": true,
    "deletable": true,
    "editable": true
   },
   "source": [
    "# Image Classification\n",
    "In this project, you'll classify images from the [CIFAR-10 dataset](https://www.cs.toronto.edu/~kriz/cifar.html).  The dataset consists of airplanes, dogs, cats, and other objects. You'll preprocess the images, then train a convolutional neural network on all the samples. The images need to be normalized and the labels need to be one-hot encoded.  You'll get to apply what you learned and build a convolutional, max pooling, dropout, and fully connected layers.  At the end, you'll get to see your neural network's predictions on the sample images.\n",
    "## Get the Data\n",
    "Run the following cell to download the [CIFAR-10 dataset for python](https://www.cs.toronto.edu/~kriz/cifar-10-python.tar.gz)."
   ]
  },
  {
   "cell_type": "code",
   "execution_count": 1,
   "metadata": {
    "collapsed": false,
    "deletable": true,
    "editable": true
   },
   "outputs": [
    {
     "name": "stderr",
     "output_type": "stream",
     "text": [
      "CIFAR-10 Dataset: 171MB [01:23, 2.05MB/s]                              \n"
     ]
    },
    {
     "name": "stdout",
     "output_type": "stream",
     "text": [
      "All files found!\n"
     ]
    }
   ],
   "source": [
    "\"\"\"\n",
    "DON'T MODIFY ANYTHING IN THIS CELL THAT IS BELOW THIS LINE\n",
    "\"\"\"\n",
    "from urllib.request import urlretrieve\n",
    "from os.path import isfile, isdir\n",
    "from tqdm import tqdm\n",
    "import problem_unittests as tests\n",
    "import tarfile\n",
    "\n",
    "cifar10_dataset_folder_path = 'cifar-10-batches-py'\n",
    "\n",
    "class DLProgress(tqdm):\n",
    "    last_block = 0\n",
    "\n",
    "    def hook(self, block_num=1, block_size=1, total_size=None):\n",
    "        self.total = total_size\n",
    "        self.update((block_num - self.last_block) * block_size)\n",
    "        self.last_block = block_num\n",
    "\n",
    "if not isfile('cifar-10-python.tar.gz'):\n",
    "    with DLProgress(unit='B', unit_scale=True, miniters=1, desc='CIFAR-10 Dataset') as pbar:\n",
    "        urlretrieve(\n",
    "            'https://www.cs.toronto.edu/~kriz/cifar-10-python.tar.gz',\n",
    "            'cifar-10-python.tar.gz',\n",
    "            pbar.hook)\n",
    "\n",
    "if not isdir(cifar10_dataset_folder_path):\n",
    "    with tarfile.open('cifar-10-python.tar.gz') as tar:\n",
    "        tar.extractall()\n",
    "        tar.close()\n",
    "\n",
    "\n",
    "tests.test_folder_path(cifar10_dataset_folder_path)"
   ]
  },
  {
   "cell_type": "markdown",
   "metadata": {
    "deletable": true,
    "editable": true
   },
   "source": [
    "## Explore the Data\n",
    "The dataset is broken into batches to prevent your machine from running out of memory.  The CIFAR-10 dataset consists of 5 batches, named `data_batch_1`, `data_batch_2`, etc.. Each batch contains the labels and images that are one of the following:\n",
    "* airplane\n",
    "* automobile\n",
    "* bird\n",
    "* cat\n",
    "* deer\n",
    "* dog\n",
    "* frog\n",
    "* horse\n",
    "* ship\n",
    "* truck\n",
    "\n",
    "Understanding a dataset is part of making predictions on the data.  Play around with the code cell below by changing the `batch_id` and `sample_id`. The `batch_id` is the id for a batch (1-5). The `sample_id` is the id for a image and label pair in the batch.\n",
    "\n",
    "Ask yourself \"What are all possible labels?\", \"What is the range of values for the image data?\", \"Are the labels in order or random?\".  Answers to questions like these will help you preprocess the data and end up with better predictions."
   ]
  },
  {
   "cell_type": "code",
   "execution_count": 2,
   "metadata": {
    "collapsed": false,
    "deletable": true,
    "editable": true
   },
   "outputs": [
    {
     "name": "stdout",
     "output_type": "stream",
     "text": [
      "\n",
      "Stats of batch 5:\n",
      "Samples: 10000\n",
      "Label Counts: {0: 1014, 1: 1014, 2: 952, 3: 1016, 4: 997, 5: 1025, 6: 980, 7: 977, 8: 1003, 9: 1022}\n",
      "First 20 Labels: [1, 8, 5, 1, 5, 7, 4, 3, 8, 2, 7, 2, 0, 1, 5, 9, 6, 2, 0, 8]\n",
      "\n",
      "Example of Image 910:\n",
      "Image - Min Value: 30 Max Value: 255\n",
      "Image - Shape: (32, 32, 3)\n",
      "Label - Label Id: 0 Name: airplane\n"
     ]
    },
    {
     "data": {
      "image/png": "[encoded data removed]",
      "text/plain": [
       "<matplotlib.figure.Figure at 0x7fd59ea65ac8>"
      ]
     },
     "metadata": {
      "image/png": {
       "height": 250,
       "width": 253
      }
     },
     "output_type": "display_data"
    }
   ],
   "source": [
    "%matplotlib inline\n",
    "%config InlineBackend.figure_format = 'retina'\n",
    "\n",
    "import helper\n",
    "import numpy as np\n",
    "\n",
    "# Explore the dataset\n",
    "batch_id = 5\n",
    "sample_id = 910\n",
    "features, labels = helper.load_cfar10_batch(cifar10_dataset_folder_path, batch_id)\n",
    "helper.display_stats(cifar10_dataset_folder_path, batch_id, sample_id)"
   ]
  },
  {
   "cell_type": "markdown",
   "metadata": {
    "deletable": true,
    "editable": true
   },
   "source": [
    "## Implement Preprocess Functions\n",
    "### Normalize\n",
    "In the cell below, implement the `normalize` function to take in image data, `x`, and return it as a normalized Numpy array. The values should be in the range of 0 to 1, inclusive.  The return object should be the same shape as `x`."
   ]
  },
  {
   "cell_type": "code",
   "execution_count": 3,
   "metadata": {
    "collapsed": false,
    "deletable": true,
    "editable": true
   },
   "outputs": [
    {
     "name": "stdout",
     "output_type": "stream",
     "text": [
      "Tests Passed\n"
     ]
    }
   ],
   "source": [
    "def normalize(x):\n",
    "    \"\"\"\n",
    "    Normalize a list of sample image data in the range of 0 to 1\n",
    "    : x: List of image data.  The image shape is (32, 32, 3)\n",
    "    : return: Numpy array of normalize data\n",
    "    \"\"\"\n",
    "    # TODO: Implement Function\n",
    "    \n",
    "    return np.array(x/255)\n",
    "\n",
    "\"\"\"\n",
    "DON'T MODIFY ANYTHING IN THIS CELL THAT IS BELOW THIS LINE\n",
    "\"\"\"\n",
    "tests.test_normalize(normalize)"
   ]
  },
  {
   "cell_type": "markdown",
   "metadata": {
    "deletable": true,
    "editable": true
   },
   "source": [
    "### One-hot encode\n",
    "Just like the previous code cell, you'll be implementing a function for preprocessing.  This time, you'll implement the `one_hot_encode` function. The input, `x`, are a list of labels.  Implement the function to return the list of labels as One-Hot encoded Numpy array.  The possible values for labels are 0 to 9. The one-hot encoding function should return the same encoding for each value between each call to `one_hot_encode`.  Make sure to save the map of encodings outside the function.\n",
    "\n",
    "Hint: Don't reinvent the wheel."
   ]
  },
  {
   "cell_type": "code",
   "execution_count": 5,
   "metadata": {
    "collapsed": false,
    "deletable": true,
    "editable": true
   },
   "outputs": [
    {
     "name": "stdout",
     "output_type": "stream",
     "text": [
      "Tests Passed\n"
     ]
    }
   ],
   "source": [
    "def one_hot_encode(x):\n",
    "    \"\"\"\n",
    "    One hot encode a list of sample labels. Return a one-hot encoded vector for each label.\n",
    "    : x: List of sample Labels\n",
    "    : return: Numpy array of one-hot encoded labels\n",
    "    \"\"\"\n",
    "    return_array = np.zeros((len(x),10))\n",
    "    for i in range(len(x)):\n",
    "        return_array[i][x[i]] = 1\n",
    "\n",
    "    return return_array\n",
    "\n",
    "\n",
    "\"\"\"\n",
    "DON'T MODIFY ANYTHING IN THIS CELL THAT IS BELOW THIS LINE\n",
    "\"\"\"\n",
    "tests.test_one_hot_encode(one_hot_encode)"
   ]
  },
  {
   "cell_type": "markdown",
   "metadata": {
    "deletable": true,
    "editable": true
   },
   "source": [
    "### Randomize Data\n",
    "As you saw from exploring the data above, the order of the samples are randomized.  It doesn't hurt to randomize it again, but you don't need to for this dataset."
   ]
  },
  {
   "cell_type": "markdown",
   "metadata": {
    "deletable": true,
    "editable": true
   },
   "source": [
    "## Preprocess all the data and save it\n",
    "Running the code cell below will preprocess all the CIFAR-10 data and save it to file. The code below also uses 10% of the training data for validation."
   ]
  },
  {
   "cell_type": "code",
   "execution_count": 6,
   "metadata": {
    "collapsed": false,
    "deletable": true,
    "editable": true
   },
   "outputs": [],
   "source": [
    "\"\"\"\n",
    "DON'T MODIFY ANYTHING IN THIS CELL\n",
    "\"\"\"\n",
    "# Preprocess Training, Validation, and Testing Data\n",
    "helper.preprocess_and_save_data(cifar10_dataset_folder_path, normalize, one_hot_encode)"
   ]
  },
  {
   "cell_type": "markdown",
   "metadata": {
    "deletable": true,
    "editable": true
   },
   "source": [
    "# Check Point\n",
    "This is your first checkpoint.  If you ever decide to come back to this notebook or have to restart the notebook, you can start from here.  The preprocessed data has been saved to disk."
   ]
  },
  {
   "cell_type": "code",
   "execution_count": 7,
   "metadata": {
    "collapsed": true,
    "deletable": true,
    "editable": true
   },
   "outputs": [],
   "source": [
    "\"\"\"\n",
    "DON'T MODIFY ANYTHING IN THIS CELL\n",
    "\"\"\"\n",
    "import pickle\n",
    "import problem_unittests as tests\n",
    "import helper\n",
    "\n",
    "# Load the Preprocessed Validation data\n",
    "valid_features, valid_labels = pickle.load(open('preprocess_validation.p', mode='rb'))"
   ]
  },
  {
   "cell_type": "markdown",
   "metadata": {
    "deletable": true,
    "editable": true
   },
   "source": [
    "## Build the network\n",
    "For the neural network, you'll build each layer into a function.  Most of the code you've seen has been outside of functions. To test your code more thoroughly, we require that you put each layer in a function.  This allows us to give you better feedback and test for simple mistakes using our unittests before you submit your project.\n",
    "\n",
    ">**Note:** If you're finding it hard to dedicate enough time for this course each week, we've provided a small shortcut to this part of the project. In the next couple of problems, you'll have the option to use classes from the [TensorFlow Layers](https://www.tensorflow.org/api_docs/python/tf/layers) or [TensorFlow Layers (contrib)](https://www.tensorflow.org/api_guides/python/contrib.layers) packages to build each layer, except the layers you build in the \"Convolutional and Max Pooling Layer\" section.  TF Layers is similar to Keras's and TFLearn's abstraction to layers, so it's easy to pickup.\n",
    "\n",
    ">However, if you would like to get the most out of this course, try to solve all the problems _without_ using anything from the TF Layers packages. You **can** still use classes from other packages that happen to have the same name as ones you find in TF Layers! For example, instead of using the TF Layers version of the `conv2d` class, [tf.layers.conv2d](https://www.tensorflow.org/api_docs/python/tf/layers/conv2d), you would want to use the TF Neural Network version of `conv2d`, [tf.nn.conv2d](https://www.tensorflow.org/api_docs/python/tf/nn/conv2d). \n",
    "\n",
    "Let's begin!\n",
    "\n",
    "### Input\n",
    "The neural network needs to read the image data, one-hot encoded labels, and dropout keep probability. Implement the following functions\n",
    "* Implement `neural_net_image_input`\n",
    " * Return a [TF Placeholder](https://www.tensorflow.org/api_docs/python/tf/placeholder)\n",
    " * Set the shape using `image_shape` with batch size set to `None`.\n",
    " * Name the TensorFlow placeholder \"x\" using the TensorFlow `name` parameter in the [TF Placeholder](https://www.tensorflow.org/api_docs/python/tf/placeholder).\n",
    "* Implement `neural_net_label_input`\n",
    " * Return a [TF Placeholder](https://www.tensorflow.org/api_docs/python/tf/placeholder)\n",
    " * Set the shape using `n_classes` with batch size set to `None`.\n",
    " * Name the TensorFlow placeholder \"y\" using the TensorFlow `name` parameter in the [TF Placeholder](https://www.tensorflow.org/api_docs/python/tf/placeholder).\n",
    "* Implement `neural_net_keep_prob_input`\n",
    " * Return a [TF Placeholder](https://www.tensorflow.org/api_docs/python/tf/placeholder) for dropout keep probability.\n",
    " * Name the TensorFlow placeholder \"keep_prob\" using the TensorFlow `name` parameter in the [TF Placeholder](https://www.tensorflow.org/api_docs/python/tf/placeholder).\n",
    "\n",
    "These names will be used at the end of the project to load your saved model.\n",
    "\n",
    "Note: `None` for shapes in TensorFlow allow for a dynamic size."
   ]
  },
  {
   "cell_type": "code",
   "execution_count": 8,
   "metadata": {
    "collapsed": false,
    "deletable": true,
    "editable": true
   },
   "outputs": [
    {
     "name": "stdout",
     "output_type": "stream",
     "text": [
      "Image Input Tests Passed.\n",
      "Label Input Tests Passed.\n",
      "Keep Prob Tests Passed.\n"
     ]
    }
   ],
   "source": [
    "import tensorflow as tf\n",
    "\n",
    "def neural_net_image_input(image_shape):\n",
    "    \"\"\"\n",
    "    Return a Tensor for a bach of image input\n",
    "    : image_shape: Shape of the images\n",
    "    : return: Tensor for image input.\n",
    "    \"\"\"\n",
    "    return tf.placeholder(tf.float32, shape=np.append(None,image_shape), name=\"x\")\n",
    "\n",
    "\n",
    "def neural_net_label_input(n_classes):\n",
    "    \"\"\"\n",
    "    Return a Tensor for a batch of label input\n",
    "    : n_classes: Number of classes\n",
    "    : return: Tensor for label input.\n",
    "    \"\"\"\n",
    "    # TODO: Implement Function\n",
    "    return tf.placeholder(tf.int32, shape=np.append(None,n_classes), name=\"y\")\n",
    "\n",
    "\n",
    "def neural_net_keep_prob_input():\n",
    "    \"\"\"\n",
    "    Return a Tensor for keep probability\n",
    "    : return: Tensor for keep probability.\n",
    "    \"\"\"\n",
    "    # TODO: Implement Function\n",
    "    return tf.placeholder(tf.float32, name=\"keep_prob\")\n",
    "\n",
    "\n",
    "\"\"\"\n",
    "DON'T MODIFY ANYTHING IN THIS CELL THAT IS BELOW THIS LINE\n",
    "\"\"\"\n",
    "tf.reset_default_graph()\n",
    "tests.test_nn_image_inputs(neural_net_image_input)\n",
    "tests.test_nn_label_inputs(neural_net_label_input)\n",
    "tests.test_nn_keep_prob_inputs(neural_net_keep_prob_input)"
   ]
  },
  {
   "cell_type": "markdown",
   "metadata": {
    "deletable": true,
    "editable": true
   },
   "source": [
    "### Convolution and Max Pooling Layer\n",
    "Convolution layers have a lot of success with images. For this code cell, you should implement the function `conv2d_maxpool` to apply convolution then max pooling:\n",
    "* Create the weight and bias using `conv_ksize`, `conv_num_outputs` and the shape of `x_tensor`.\n",
    "* Apply a convolution to `x_tensor` using weight and `conv_strides`.\n",
    " * We recommend you use same padding, but you're welcome to use any padding.\n",
    "* Add bias\n",
    "* Add a nonlinear activation to the convolution.\n",
    "* Apply Max Pooling using `pool_ksize` and `pool_strides`.\n",
    " * We recommend you use same padding, but you're welcome to use any padding.\n",
    "\n",
    "**Note:** You **can't** use [TensorFlow Layers](https://www.tensorflow.org/api_docs/python/tf/layers) or [TensorFlow Layers (contrib)](https://www.tensorflow.org/api_guides/python/contrib.layers) for **this** layer, but you can still use TensorFlow's [Neural Network](https://www.tensorflow.org/api_docs/python/tf/nn) package. You may still use the shortcut option for all the **other** layers."
   ]
  },
  {
   "cell_type": "code",
   "execution_count": 31,
   "metadata": {
    "collapsed": false,
    "deletable": true,
    "editable": true
   },
   "outputs": [
    {
     "name": "stdout",
     "output_type": "stream",
     "text": [
      "Tests Passed\n"
     ]
    }
   ],
   "source": [
    "def conv2d_maxpool(x_tensor, conv_num_outputs, conv_ksize, conv_strides, pool_ksize, pool_strides):\n",
    "    \"\"\"\n",
    "    Apply convolution then max pooling to x_tensor\n",
    "    :param x_tensor: TensorFlow Tensor\n",
    "    :param conv_num_outputs: Number of outputs for the convolutional layer\n",
    "    :param conv_ksize: kernal size 2-D Tuple for the convolutional layer\n",
    "    :param conv_strides: Stride 2-D Tuple for convolution\n",
    "    :param pool_ksize: kernal size 2-D Tuple for pool\n",
    "    :param pool_strides: Stride 2-D Tuple for pool\n",
    "    : return: A tensor that represents convolution and max pooling of x_tensor\n",
    "    \"\"\"\n",
    "    filter_size_height = conv_ksize[0]\n",
    "    filter_size_width = conv_ksize[1]\n",
    "    color_channels = x_tensor.shape[-1]\n",
    "    \n",
    "    W = tf.Variable(tf.truncated_normal([filter_size_height, filter_size_width, int(color_channels), conv_num_outputs], stddev=.1))\n",
    "    bias = tf.Variable(tf.truncated_normal([conv_num_outputs]))\n",
    "    \n",
    "    conv = tf.nn.conv2d(x_tensor, W, strides=[1, conv_strides[0], conv_strides[0], 1], padding='SAME')\n",
    "    conv = tf.nn.bias_add(conv, bias)\n",
    "    conv = tf.contrib.layers.batch_norm(conv, center=True, scale=True)\n",
    "    conv = tf.nn.relu(conv)\n",
    "    \n",
    "    max_pool = tf.nn.max_pool(conv, [1,*pool_ksize,1], [1, pool_strides[0], pool_strides[1], 1], 'SAME')\n",
    "\n",
    "    return max_pool \n",
    "\n",
    "\n",
    "\"\"\"\n",
    "DON'T MODIFY ANYTHING IN THIS CELL THAT IS BELOW THIS LINE\n",
    "\"\"\"\n",
    "tests.test_con_pool(conv2d_maxpool)"
   ]
  },
  {
   "cell_type": "markdown",
   "metadata": {
    "deletable": true,
    "editable": true
   },
   "source": [
    "### Flatten Layer\n",
    "Implement the `flatten` function to change the dimension of `x_tensor` from a 4-D tensor to a 2-D tensor.  The output should be the shape (*Batch Size*, *Flattened Image Size*). Shortcut option: you can use classes from the [TensorFlow Layers](https://www.tensorflow.org/api_docs/python/tf/layers) or [TensorFlow Layers (contrib)](https://www.tensorflow.org/api_guides/python/contrib.layers) packages for this layer. For more of a challenge, only use other TensorFlow packages."
   ]
  },
  {
   "cell_type": "code",
   "execution_count": 10,
   "metadata": {
    "collapsed": false,
    "deletable": true,
    "editable": true
   },
   "outputs": [
    {
     "name": "stdout",
     "output_type": "stream",
     "text": [
      "Tests Passed\n"
     ]
    }
   ],
   "source": [
    "def flatten(x_tensor):\n",
    "    \"\"\"\n",
    "    Flatten x_tensor to (Batch Size, Flattened Image Size)\n",
    "    : x_tensor: A tensor of size (Batch Size, ...), where ... are the image dimensions.\n",
    "    : return: A tensor of size (Batch Size, Flattened Image Size).\n",
    "    \"\"\"\n",
    "    # TODO: Implement Function\n",
    "    shape = x_tensor.get_shape().as_list()\n",
    "    return tf.reshape(x_tensor, [-1, shape[1] * shape[2] * shape[3]])\n",
    "\n",
    "\n",
    "\"\"\"\n",
    "DON'T MODIFY ANYTHING IN THIS CELL THAT IS BELOW THIS LINE\n",
    "\"\"\"\n",
    "tests.test_flatten(flatten)"
   ]
  },
  {
   "cell_type": "markdown",
   "metadata": {
    "deletable": true,
    "editable": true
   },
   "source": [
    "### Fully-Connected Layer\n",
    "Implement the `fully_conn` function to apply a fully connected layer to `x_tensor` with the shape (*Batch Size*, *num_outputs*). Shortcut option: you can use classes from the [TensorFlow Layers](https://www.tensorflow.org/api_docs/python/tf/layers) or [TensorFlow Layers (contrib)](https://www.tensorflow.org/api_guides/python/contrib.layers) packages for this layer. For more of a challenge, only use other TensorFlow packages."
   ]
  },
  {
   "cell_type": "code",
   "execution_count": 33,
   "metadata": {
    "collapsed": false,
    "deletable": true,
    "editable": true
   },
   "outputs": [
    {
     "name": "stdout",
     "output_type": "stream",
     "text": [
      "Tests Passed\n"
     ]
    }
   ],
   "source": [
    "def fully_conn(x_tensor, num_outputs):\n",
    "    \"\"\"\n",
    "    Apply a fully connected layer to x_tensor using weight and bias\n",
    "    : x_tensor: A 2-D tensor where the first dimension is batch size.\n",
    "    : num_outputs: The number of output that the new tensor should be.\n",
    "    : return: A 2-D tensor where the second dimension is num_outputs.\n",
    "    \"\"\"\n",
    "    W = tf.Variable(tf.truncated_normal([int(x_tensor.shape[-1]),num_outputs],stddev=.1))\n",
    "    b = tf.Variable(tf.zeros(num_outputs))\n",
    "    \n",
    "    fc = tf.add(tf.matmul(x_tensor, W), b)\n",
    "    \n",
    "    return tf.nn.relu(fc)\n",
    "\n",
    "\n",
    "\"\"\"\n",
    "DON'T MODIFY ANYTHING IN THIS CELL THAT IS BELOW THIS LINE\n",
    "\"\"\"\n",
    "tests.test_fully_conn(fully_conn)"
   ]
  },
  {
   "cell_type": "markdown",
   "metadata": {
    "deletable": true,
    "editable": true
   },
   "source": [
    "### Output Layer\n",
    "Implement the `output` function to apply a fully connected layer to `x_tensor` with the shape (*Batch Size*, *num_outputs*). Shortcut option: you can use classes from the [TensorFlow Layers](https://www.tensorflow.org/api_docs/python/tf/layers) or [TensorFlow Layers (contrib)](https://www.tensorflow.org/api_guides/python/contrib.layers) packages for this layer. For more of a challenge, only use other TensorFlow packages.\n",
    "\n",
    "**Note:** Activation, softmax, or cross entropy should **not** be applied to this."
   ]
  },
  {
   "cell_type": "code",
   "execution_count": 34,
   "metadata": {
    "collapsed": false,
    "deletable": true,
    "editable": true
   },
   "outputs": [
    {
     "name": "stdout",
     "output_type": "stream",
     "text": [
      "Tests Passed\n"
     ]
    }
   ],
   "source": [
    "def output(x_tensor, num_outputs):\n",
    "    \"\"\"\n",
    "    Apply a output layer to x_tensor using weight and bias\n",
    "    : x_tensor: A 2-D tensor where the first dimension is batch size.\n",
    "    : num_outputs: The number of output that the new tensor should be.\n",
    "    : return: A 2-D tensor where the second dimension is num_outputs.\n",
    "    \"\"\"\n",
    "    # TODO: Implement Function\n",
    "    W = tf.Variable(tf.truncated_normal([int(x_tensor.shape[-1]),num_outputs],stddev=.1))\n",
    "    b = tf.Variable(tf.zeros(num_outputs))\n",
    "    \n",
    "    return tf.add(tf.matmul(x_tensor, W), b)\n",
    "\n",
    "\n",
    "\"\"\"\n",
    "DON'T MODIFY ANYTHING IN THIS CELL THAT IS BELOW THIS LINE\n",
    "\"\"\"\n",
    "tests.test_output(output)"
   ]
  },
  {
   "cell_type": "markdown",
   "metadata": {
    "deletable": true,
    "editable": true
   },
   "source": [
    "### Create Convolutional Model\n",
    "Implement the function `conv_net` to create a convolutional neural network model. The function takes in a batch of images, `x`, and outputs logits.  Use the layers you created above to create this model:\n",
    "\n",
    "* Apply 1, 2, or 3 Convolution and Max Pool layers\n",
    "* Apply a Flatten Layer\n",
    "* Apply 1, 2, or 3 Fully Connected Layers\n",
    "* Apply an Output Layer\n",
    "* Return the output\n",
    "* Apply [TensorFlow's Dropout](https://www.tensorflow.org/api_docs/python/tf/nn/dropout) to one or more layers in the model using `keep_prob`. "
   ]
  },
  {
   "cell_type": "code",
   "execution_count": 14,
   "metadata": {
    "collapsed": false,
    "deletable": true,
    "editable": true
   },
   "outputs": [
    {
     "name": "stdout",
     "output_type": "stream",
     "text": [
      "Neural Network Built!\n"
     ]
    }
   ],
   "source": [
    "def conv_net(x, keep_prob):\n",
    "    \"\"\"\n",
    "    Create a convolutional neural network model\n",
    "    : x: Placeholder tensor that holds image data.\n",
    "    : keep_prob: Placeholder tensor that hold dropout keep probability.\n",
    "    : return: Tensor that represents logits\n",
    "    \"\"\"\n",
    "#     conv2d_maxpool(x_tensor, conv_num_outputs, conv_ksize, conv_strides, pool_ksize, pool_strides):\n",
    "    # TODO: Apply 1, 2, or 3 Convolution and Max Pool layers\n",
    "    #    Play around with different number of outputs, kernel size and stride\n",
    "    # Function Definition from Above:\n",
    "    conv_layer1 = conv2d_maxpool(x, 32, (2,2), (1,1) , (2,2), (2,2))\n",
    "    conv_layer2 = conv2d_maxpool(conv_layer1, 128, (2,2), (1,1) , (1,1), (1,1))\n",
    "    conv_layer3 = conv2d_maxpool(conv_layer2, 256, (2,2), (1,1) , (2,2), (2,2))\n",
    "    \n",
    "    # TODO: Apply a Flatten Layer\n",
    "    # Function Definition from Above:\n",
    "    flatten_layer = flatten(conv_layer3)\n",
    "    \n",
    "\n",
    "    # TODO: Apply 1, 2, or 3 Fully Connected Layers\n",
    "    #    Play around with different number of outputs\n",
    "    # Function Definition from Above:\n",
    "    full1 = fully_conn(flatten_layer, 512)\n",
    "    full2 = fully_conn(full1, 256)\n",
    "    droupout = tf.nn.dropout(full2, keep_prob)\n",
    "    \n",
    "    \n",
    "    # TODO: Apply an Output Layer\n",
    "    #    Set this to the number of classes\n",
    "    # Function Definition from Above:\n",
    "    out =  output(droupout, 10)\n",
    "    \n",
    "    \n",
    "    # TODO: return output\n",
    "    return out\n",
    "\n",
    "\n",
    "\"\"\"\n",
    "DON'T MODIFY ANYTHING IN THIS CELL THAT IS BELOW THIS LINE\n",
    "\"\"\"\n",
    "\n",
    "##############################\n",
    "## Build the Neural Network ##\n",
    "##############################\n",
    "\n",
    "# Remove previous weights, bias, inputs, etc..\n",
    "tf.reset_default_graph()\n",
    "\n",
    "# Inputs\n",
    "x = neural_net_image_input((32, 32, 3))\n",
    "y = neural_net_label_input(10)\n",
    "keep_prob = neural_net_keep_prob_input()\n",
    "\n",
    "# Model\n",
    "logits = conv_net(x, keep_prob)\n",
    "\n",
    "# Name logits Tensor, so that is can be loaded from disk after training\n",
    "logits = tf.identity(logits, name='logits')\n",
    "\n",
    "# Loss and Optimizer\n",
    "cost = tf.reduce_mean(tf.nn.softmax_cross_entropy_with_logits(logits=logits, labels=y))\n",
    "optimizer = tf.train.AdamOptimizer().minimize(cost)\n",
    "\n",
    "# Accuracy\n",
    "correct_pred = tf.equal(tf.argmax(logits, 1), tf.argmax(y, 1))\n",
    "accuracy = tf.reduce_mean(tf.cast(correct_pred, tf.float32), name='accuracy')\n",
    "\n",
    "tests.test_conv_net(conv_net)"
   ]
  },
  {
   "cell_type": "markdown",
   "metadata": {
    "deletable": true,
    "editable": true
   },
   "source": [
    "## Train the Neural Network\n",
    "### Single Optimization\n",
    "Implement the function `train_neural_network` to do a single optimization.  The optimization should use `optimizer` to optimize in `session` with a `feed_dict` of the following:\n",
    "* `x` for image input\n",
    "* `y` for labels\n",
    "* `keep_prob` for keep probability for dropout\n",
    "\n",
    "This function will be called for each batch, so `tf.global_variables_initializer()` has already been called.\n",
    "\n",
    "Note: Nothing needs to be returned. This function is only optimizing the neural network."
   ]
  },
  {
   "cell_type": "code",
   "execution_count": 15,
   "metadata": {
    "collapsed": false,
    "deletable": true,
    "editable": true
   },
   "outputs": [
    {
     "name": "stdout",
     "output_type": "stream",
     "text": [
      "Tests Passed\n"
     ]
    }
   ],
   "source": [
    "def train_neural_network(session, optimizer, keep_probability, feature_batch, label_batch):\n",
    "    \"\"\"\n",
    "    Optimize the session on a batch of images and labels\n",
    "    : session: Current TensorFlow session\n",
    "    : optimizer: TensorFlow optimizer function\n",
    "    : keep_probability: keep probability\n",
    "    : feature_batch: Batch of Numpy image data\n",
    "    : label_batch: Batch of Numpy label data\n",
    "    \"\"\"\n",
    "    session.run(optimizer, feed_dict={\n",
    "        x: feature_batch,\n",
    "        y: label_batch,\n",
    "        keep_prob: keep_probability})\n",
    "\n",
    "\n",
    "\"\"\"\n",
    "DON'T MODIFY ANYTHING IN THIS CELL THAT IS BELOW THIS LINE\n",
    "\"\"\"\n",
    "tests.test_train_nn(train_neural_network)"
   ]
  },
  {
   "cell_type": "markdown",
   "metadata": {
    "deletable": true,
    "editable": true
   },
   "source": [
    "### Show Stats\n",
    "Implement the function `print_stats` to print loss and validation accuracy.  Use the global variables `valid_features` and `valid_labels` to calculate validation accuracy.  Use a keep probability of `1.0` to calculate the loss and validation accuracy."
   ]
  },
  {
   "cell_type": "code",
   "execution_count": 44,
   "metadata": {
    "collapsed": false,
    "deletable": true,
    "editable": true
   },
   "outputs": [],
   "source": [
    "def print_stats(session, feature_batch, label_batch, cost, accuracy):\n",
    "    \"\"\"\n",
    "    Print information about loss and validation accuracy\n",
    "    : session: Current TensorFlow session\n",
    "    : feature_batch: Batch of Numpy image data\n",
    "    : label_batch: Batch of Numpy label data\n",
    "    : cost: TensorFlow cost function\n",
    "    : accuracy: TensorFlow accuracy function\n",
    "    \"\"\"\n",
    "    cost = session.run(cost, feed_dict={\n",
    "                x: feature_batch,\n",
    "                y: label_batch,\n",
    "                keep_prob: 1.0})\n",
    "    \n",
    "    valid_accuracies = []\n",
    "    \n",
    "    for i in range(0,5000,500):\n",
    "        tmp = session.run(accuracy, feed_dict={\n",
    "                x: valid_features[i:i + 500],\n",
    "                y: valid_labels[i: i + 500],\n",
    "                keep_prob: 1.0})\n",
    "        valid_accuracies.append(tmp)\n",
    "        \n",
    "    valid_accuracy = np.mean(valid_accuracies)\n",
    "    \n",
    "    print(\"Cost: %f, Accuracy: %f\" % (cost, valid_accuracy))"
   ]
  },
  {
   "cell_type": "markdown",
   "metadata": {
    "deletable": true,
    "editable": true
   },
   "source": [
    "### Hyperparameters\n",
    "Tune the following parameters:\n",
    "* Set `epochs` to the number of iterations until the network stops learning or start overfitting\n",
    "* Set `batch_size` to the highest number that your machine has memory for.  Most people set them to common sizes of memory:\n",
    " * 64\n",
    " * 128\n",
    " * 256\n",
    " * ...\n",
    "* Set `keep_probability` to the probability of keeping a node using dropout"
   ]
  },
  {
   "cell_type": "code",
   "execution_count": 45,
   "metadata": {
    "collapsed": false,
    "deletable": true,
    "editable": true
   },
   "outputs": [],
   "source": [
    "# TODO: Tune Parameters\n",
    "epochs = 40\n",
    "batch_size = 128\n",
    "keep_probability = 0.5"
   ]
  },
  {
   "cell_type": "markdown",
   "metadata": {
    "deletable": true,
    "editable": true
   },
   "source": [
    "### Train on a Single CIFAR-10 Batch\n",
    "Instead of training the neural network on all the CIFAR-10 batches of data, let's use a single batch. This should save time while you iterate on the model to get a better accuracy.  Once the final validation accuracy is 50% or greater, run the model on all the data in the next section."
   ]
  },
  {
   "cell_type": "code",
   "execution_count": 46,
   "metadata": {
    "collapsed": false,
    "deletable": true,
    "editable": true
   },
   "outputs": [
    {
     "name": "stdout",
     "output_type": "stream",
     "text": [
      "Checking the Training on a Single Batch...\n",
      "Epoch  1, CIFAR-10 Batch 1:  Cost: 2.293676, Accuracy: 0.088400\n",
      "Epoch  2, CIFAR-10 Batch 1:  Cost: 2.307290, Accuracy: 0.103000\n",
      "Epoch  3, CIFAR-10 Batch 1:  Cost: 2.298091, Accuracy: 0.105000\n",
      "Epoch  4, CIFAR-10 Batch 1:  Cost: 2.303655, Accuracy: 0.096600\n"
     ]
    },
    {
     "ename": "KeyboardInterrupt",
     "evalue": "",
     "output_type": "error",
     "traceback": [
      "\u001b[0;31m---------------------------------------------------------------------------\u001b[0m",
      "\u001b[0;31mKeyboardInterrupt\u001b[0m                         Traceback (most recent call last)",
      "\u001b[0;32m<ipython-input-46-0ebd1bbc35ad>\u001b[0m in \u001b[0;36m<module>\u001b[0;34m()\u001b[0m\n\u001b[1;32m     11\u001b[0m         \u001b[0mbatch_i\u001b[0m \u001b[0;34m=\u001b[0m \u001b[0;36m1\u001b[0m\u001b[0;34m\u001b[0m\u001b[0m\n\u001b[1;32m     12\u001b[0m         \u001b[0;32mfor\u001b[0m \u001b[0mbatch_features\u001b[0m\u001b[0;34m,\u001b[0m \u001b[0mbatch_labels\u001b[0m \u001b[0;32min\u001b[0m \u001b[0mhelper\u001b[0m\u001b[0;34m.\u001b[0m\u001b[0mload_preprocess_training_batch\u001b[0m\u001b[0;34m(\u001b[0m\u001b[0mbatch_i\u001b[0m\u001b[0;34m,\u001b[0m \u001b[0mbatch_size\u001b[0m\u001b[0;34m)\u001b[0m\u001b[0;34m:\u001b[0m\u001b[0;34m\u001b[0m\u001b[0m\n\u001b[0;32m---> 13\u001b[0;31m             \u001b[0mtrain_neural_network\u001b[0m\u001b[0;34m(\u001b[0m\u001b[0msess\u001b[0m\u001b[0;34m,\u001b[0m \u001b[0moptimizer\u001b[0m\u001b[0;34m,\u001b[0m \u001b[0mkeep_probability\u001b[0m\u001b[0;34m,\u001b[0m \u001b[0mbatch_features\u001b[0m\u001b[0;34m,\u001b[0m \u001b[0mbatch_labels\u001b[0m\u001b[0;34m)\u001b[0m\u001b[0;34m\u001b[0m\u001b[0m\n\u001b[0m\u001b[1;32m     14\u001b[0m         \u001b[0mprint\u001b[0m\u001b[0;34m(\u001b[0m\u001b[0;34m'Epoch {:>2}, CIFAR-10 Batch {}:  '\u001b[0m\u001b[0;34m.\u001b[0m\u001b[0mformat\u001b[0m\u001b[0;34m(\u001b[0m\u001b[0mepoch\u001b[0m \u001b[0;34m+\u001b[0m \u001b[0;36m1\u001b[0m\u001b[0;34m,\u001b[0m \u001b[0mbatch_i\u001b[0m\u001b[0;34m)\u001b[0m\u001b[0;34m,\u001b[0m \u001b[0mend\u001b[0m\u001b[0;34m=\u001b[0m\u001b[0;34m''\u001b[0m\u001b[0;34m)\u001b[0m\u001b[0;34m\u001b[0m\u001b[0m\n\u001b[1;32m     15\u001b[0m         \u001b[0mprint_stats\u001b[0m\u001b[0;34m(\u001b[0m\u001b[0msess\u001b[0m\u001b[0;34m,\u001b[0m \u001b[0mbatch_features\u001b[0m\u001b[0;34m,\u001b[0m \u001b[0mbatch_labels\u001b[0m\u001b[0;34m,\u001b[0m \u001b[0mcost\u001b[0m\u001b[0;34m,\u001b[0m \u001b[0maccuracy\u001b[0m\u001b[0;34m)\u001b[0m\u001b[0;34m\u001b[0m\u001b[0m\n",
      "\u001b[0;32m<ipython-input-15-dec910591661>\u001b[0m in \u001b[0;36mtrain_neural_network\u001b[0;34m(session, optimizer, keep_probability, feature_batch, label_batch)\u001b[0m\n\u001b[1;32m     11\u001b[0m         \u001b[0mx\u001b[0m\u001b[0;34m:\u001b[0m \u001b[0mfeature_batch\u001b[0m\u001b[0;34m,\u001b[0m\u001b[0;34m\u001b[0m\u001b[0m\n\u001b[1;32m     12\u001b[0m         \u001b[0my\u001b[0m\u001b[0;34m:\u001b[0m \u001b[0mlabel_batch\u001b[0m\u001b[0;34m,\u001b[0m\u001b[0;34m\u001b[0m\u001b[0m\n\u001b[0;32m---> 13\u001b[0;31m         keep_prob: keep_probability})\n\u001b[0m\u001b[1;32m     14\u001b[0m \u001b[0;34m\u001b[0m\u001b[0m\n\u001b[1;32m     15\u001b[0m \u001b[0;34m\u001b[0m\u001b[0m\n",
      "\u001b[0;32m/home/carnd/anaconda3/envs/dl/lib/python3.5/site-packages/tensorflow/python/client/session.py\u001b[0m in \u001b[0;36mrun\u001b[0;34m(self, fetches, feed_dict, options, run_metadata)\u001b[0m\n\u001b[1;32m    765\u001b[0m     \u001b[0;32mtry\u001b[0m\u001b[0;34m:\u001b[0m\u001b[0;34m\u001b[0m\u001b[0m\n\u001b[1;32m    766\u001b[0m       result = self._run(None, fetches, feed_dict, options_ptr,\n\u001b[0;32m--> 767\u001b[0;31m                          run_metadata_ptr)\n\u001b[0m\u001b[1;32m    768\u001b[0m       \u001b[0;32mif\u001b[0m \u001b[0mrun_metadata\u001b[0m\u001b[0;34m:\u001b[0m\u001b[0;34m\u001b[0m\u001b[0m\n\u001b[1;32m    769\u001b[0m         \u001b[0mproto_data\u001b[0m \u001b[0;34m=\u001b[0m \u001b[0mtf_session\u001b[0m\u001b[0;34m.\u001b[0m\u001b[0mTF_GetBuffer\u001b[0m\u001b[0;34m(\u001b[0m\u001b[0mrun_metadata_ptr\u001b[0m\u001b[0;34m)\u001b[0m\u001b[0;34m\u001b[0m\u001b[0m\n",
      "\u001b[0;32m/home/carnd/anaconda3/envs/dl/lib/python3.5/site-packages/tensorflow/python/client/session.py\u001b[0m in \u001b[0;36m_run\u001b[0;34m(self, handle, fetches, feed_dict, options, run_metadata)\u001b[0m\n\u001b[1;32m    963\u001b[0m     \u001b[0;32mif\u001b[0m \u001b[0mfinal_fetches\u001b[0m \u001b[0;32mor\u001b[0m \u001b[0mfinal_targets\u001b[0m\u001b[0;34m:\u001b[0m\u001b[0;34m\u001b[0m\u001b[0m\n\u001b[1;32m    964\u001b[0m       results = self._do_run(handle, final_targets, final_fetches,\n\u001b[0;32m--> 965\u001b[0;31m                              feed_dict_string, options, run_metadata)\n\u001b[0m\u001b[1;32m    966\u001b[0m     \u001b[0;32melse\u001b[0m\u001b[0;34m:\u001b[0m\u001b[0;34m\u001b[0m\u001b[0m\n\u001b[1;32m    967\u001b[0m       \u001b[0mresults\u001b[0m \u001b[0;34m=\u001b[0m \u001b[0;34m[\u001b[0m\u001b[0;34m]\u001b[0m\u001b[0;34m\u001b[0m\u001b[0m\n",
      "\u001b[0;32m/home/carnd/anaconda3/envs/dl/lib/python3.5/site-packages/tensorflow/python/client/session.py\u001b[0m in \u001b[0;36m_do_run\u001b[0;34m(self, handle, target_list, fetch_list, feed_dict, options, run_metadata)\u001b[0m\n\u001b[1;32m   1013\u001b[0m     \u001b[0;32mif\u001b[0m \u001b[0mhandle\u001b[0m \u001b[0;32mis\u001b[0m \u001b[0;32mNone\u001b[0m\u001b[0;34m:\u001b[0m\u001b[0;34m\u001b[0m\u001b[0m\n\u001b[1;32m   1014\u001b[0m       return self._do_call(_run_fn, self._session, feed_dict, fetch_list,\n\u001b[0;32m-> 1015\u001b[0;31m                            target_list, options, run_metadata)\n\u001b[0m\u001b[1;32m   1016\u001b[0m     \u001b[0;32melse\u001b[0m\u001b[0;34m:\u001b[0m\u001b[0;34m\u001b[0m\u001b[0m\n\u001b[1;32m   1017\u001b[0m       return self._do_call(_prun_fn, self._session, handle, feed_dict,\n",
      "\u001b[0;32m/home/carnd/anaconda3/envs/dl/lib/python3.5/site-packages/tensorflow/python/client/session.py\u001b[0m in \u001b[0;36m_do_call\u001b[0;34m(self, fn, *args)\u001b[0m\n\u001b[1;32m   1020\u001b[0m   \u001b[0;32mdef\u001b[0m \u001b[0m_do_call\u001b[0m\u001b[0;34m(\u001b[0m\u001b[0mself\u001b[0m\u001b[0;34m,\u001b[0m \u001b[0mfn\u001b[0m\u001b[0;34m,\u001b[0m \u001b[0;34m*\u001b[0m\u001b[0margs\u001b[0m\u001b[0;34m)\u001b[0m\u001b[0;34m:\u001b[0m\u001b[0;34m\u001b[0m\u001b[0m\n\u001b[1;32m   1021\u001b[0m     \u001b[0;32mtry\u001b[0m\u001b[0;34m:\u001b[0m\u001b[0;34m\u001b[0m\u001b[0m\n\u001b[0;32m-> 1022\u001b[0;31m       \u001b[0;32mreturn\u001b[0m \u001b[0mfn\u001b[0m\u001b[0;34m(\u001b[0m\u001b[0;34m*\u001b[0m\u001b[0margs\u001b[0m\u001b[0;34m)\u001b[0m\u001b[0;34m\u001b[0m\u001b[0m\n\u001b[0m\u001b[1;32m   1023\u001b[0m     \u001b[0;32mexcept\u001b[0m \u001b[0merrors\u001b[0m\u001b[0;34m.\u001b[0m\u001b[0mOpError\u001b[0m \u001b[0;32mas\u001b[0m \u001b[0me\u001b[0m\u001b[0;34m:\u001b[0m\u001b[0;34m\u001b[0m\u001b[0m\n\u001b[1;32m   1024\u001b[0m       \u001b[0mmessage\u001b[0m \u001b[0;34m=\u001b[0m \u001b[0mcompat\u001b[0m\u001b[0;34m.\u001b[0m\u001b[0mas_text\u001b[0m\u001b[0;34m(\u001b[0m\u001b[0me\u001b[0m\u001b[0;34m.\u001b[0m\u001b[0mmessage\u001b[0m\u001b[0;34m)\u001b[0m\u001b[0;34m\u001b[0m\u001b[0m\n",
      "\u001b[0;32m/home/carnd/anaconda3/envs/dl/lib/python3.5/site-packages/tensorflow/python/client/session.py\u001b[0m in \u001b[0;36m_run_fn\u001b[0;34m(session, feed_dict, fetch_list, target_list, options, run_metadata)\u001b[0m\n\u001b[1;32m   1002\u001b[0m         return tf_session.TF_Run(session, options,\n\u001b[1;32m   1003\u001b[0m                                  \u001b[0mfeed_dict\u001b[0m\u001b[0;34m,\u001b[0m \u001b[0mfetch_list\u001b[0m\u001b[0;34m,\u001b[0m \u001b[0mtarget_list\u001b[0m\u001b[0;34m,\u001b[0m\u001b[0;34m\u001b[0m\u001b[0m\n\u001b[0;32m-> 1004\u001b[0;31m                                  status, run_metadata)\n\u001b[0m\u001b[1;32m   1005\u001b[0m \u001b[0;34m\u001b[0m\u001b[0m\n\u001b[1;32m   1006\u001b[0m     \u001b[0;32mdef\u001b[0m \u001b[0m_prun_fn\u001b[0m\u001b[0;34m(\u001b[0m\u001b[0msession\u001b[0m\u001b[0;34m,\u001b[0m \u001b[0mhandle\u001b[0m\u001b[0;34m,\u001b[0m \u001b[0mfeed_dict\u001b[0m\u001b[0;34m,\u001b[0m \u001b[0mfetch_list\u001b[0m\u001b[0;34m)\u001b[0m\u001b[0;34m:\u001b[0m\u001b[0;34m\u001b[0m\u001b[0m\n",
      "\u001b[0;31mKeyboardInterrupt\u001b[0m: "
     ]
    }
   ],
   "source": [
    "\"\"\"\n",
    "DON'T MODIFY ANYTHING IN THIS CELL\n",
    "\"\"\"\n",
    "print('Checking the Training on a Single Batch...')\n",
    "with tf.Session() as sess:\n",
    "    # Initializing the variables\n",
    "    sess.run(tf.global_variables_initializer())\n",
    "    \n",
    "    # Training cycle\n",
    "    for epoch in range(epochs):\n",
    "        batch_i = 1\n",
    "        for batch_features, batch_labels in helper.load_preprocess_training_batch(batch_i, batch_size):\n",
    "            train_neural_network(sess, optimizer, keep_probability, batch_features, batch_labels)\n",
    "        print('Epoch {:>2}, CIFAR-10 Batch {}:  '.format(epoch + 1, batch_i), end='')\n",
    "        print_stats(sess, batch_features, batch_labels, cost, accuracy)"
   ]
  },
  {
   "cell_type": "markdown",
   "metadata": {
    "deletable": true,
    "editable": true
   },
   "source": [
    "### Fully Train the Model\n",
    "Now that you got a good accuracy with a single CIFAR-10 batch, try it with all five batches."
   ]
  },
  {
   "cell_type": "code",
   "execution_count": 47,
   "metadata": {
    "collapsed": false,
    "deletable": true,
    "editable": true,
    "scrolled": true
   },
   "outputs": [
    {
     "name": "stdout",
     "output_type": "stream",
     "text": [
      "Training...\n",
      "Epoch  1, CIFAR-10 Batch 1:  Cost: 2.305599, Accuracy: 0.104800\n",
      "Epoch  1, CIFAR-10 Batch 2:  Cost: 2.301068, Accuracy: 0.134800\n",
      "Epoch  1, CIFAR-10 Batch 3:  Cost: 2.134787, Accuracy: 0.142200\n",
      "Epoch  1, CIFAR-10 Batch 4:  Cost: 2.147472, Accuracy: 0.173000\n",
      "Epoch  1, CIFAR-10 Batch 5:  Cost: 2.246479, Accuracy: 0.237200\n",
      "Epoch  2, CIFAR-10 Batch 1:  Cost: 2.228395, Accuracy: 0.253800\n",
      "Epoch  2, CIFAR-10 Batch 2:  Cost: 2.040838, Accuracy: 0.296200\n",
      "Epoch  2, CIFAR-10 Batch 3:  Cost: 1.809526, Accuracy: 0.315400\n",
      "Epoch  2, CIFAR-10 Batch 4:  Cost: 1.813440, Accuracy: 0.353400\n",
      "Epoch  2, CIFAR-10 Batch 5:  Cost: 1.820495, Accuracy: 0.364000\n",
      "Epoch  3, CIFAR-10 Batch 1:  Cost: 1.918025, Accuracy: 0.369400\n",
      "Epoch  3, CIFAR-10 Batch 2:  Cost: 1.653260, Accuracy: 0.397000\n",
      "Epoch  3, CIFAR-10 Batch 3:  Cost: 1.483925, Accuracy: 0.410200\n",
      "Epoch  3, CIFAR-10 Batch 4:  Cost: 1.574898, Accuracy: 0.422200\n",
      "Epoch  3, CIFAR-10 Batch 5:  Cost: 1.580069, Accuracy: 0.432400\n",
      "Epoch  4, CIFAR-10 Batch 1:  Cost: 1.705189, Accuracy: 0.444600\n",
      "Epoch  4, CIFAR-10 Batch 2:  Cost: 1.561334, Accuracy: 0.451200\n",
      "Epoch  4, CIFAR-10 Batch 3:  Cost: 1.248119, Accuracy: 0.459400\n",
      "Epoch  4, CIFAR-10 Batch 4:  Cost: 1.460581, Accuracy: 0.477000\n",
      "Epoch  4, CIFAR-10 Batch 5:  Cost: 1.505262, Accuracy: 0.470800\n",
      "Epoch  5, CIFAR-10 Batch 1:  Cost: 1.616145, Accuracy: 0.464200\n",
      "Epoch  5, CIFAR-10 Batch 2:  Cost: 1.477069, Accuracy: 0.466800\n",
      "Epoch  5, CIFAR-10 Batch 3:  Cost: 1.147422, Accuracy: 0.464800\n",
      "Epoch  5, CIFAR-10 Batch 4:  Cost: 1.346205, Accuracy: 0.490600\n",
      "Epoch  5, CIFAR-10 Batch 5:  Cost: 1.456575, Accuracy: 0.485600\n",
      "Epoch  6, CIFAR-10 Batch 1:  Cost: 1.586046, Accuracy: 0.488600\n",
      "Epoch  6, CIFAR-10 Batch 2:  Cost: 1.414517, Accuracy: 0.483800\n",
      "Epoch  6, CIFAR-10 Batch 3:  Cost: 1.084693, Accuracy: 0.496000\n",
      "Epoch  6, CIFAR-10 Batch 4:  Cost: 1.228682, Accuracy: 0.514600\n",
      "Epoch  6, CIFAR-10 Batch 5:  Cost: 1.275365, Accuracy: 0.515600\n",
      "Epoch  7, CIFAR-10 Batch 1:  Cost: 1.403057, Accuracy: 0.517800\n",
      "Epoch  7, CIFAR-10 Batch 2:  Cost: 1.282354, Accuracy: 0.517000\n",
      "Epoch  7, CIFAR-10 Batch 3:  Cost: 0.954613, Accuracy: 0.518000\n",
      "Epoch  7, CIFAR-10 Batch 4:  Cost: 1.112667, Accuracy: 0.512200\n",
      "Epoch  7, CIFAR-10 Batch 5:  Cost: 1.145492, Accuracy: 0.525400\n",
      "Epoch  8, CIFAR-10 Batch 1:  Cost: 1.336119, Accuracy: 0.531800\n",
      "Epoch  8, CIFAR-10 Batch 2:  Cost: 1.145585, Accuracy: 0.539800\n",
      "Epoch  8, CIFAR-10 Batch 3:  Cost: 0.788136, Accuracy: 0.543800\n",
      "Epoch  8, CIFAR-10 Batch 4:  Cost: 1.046832, Accuracy: 0.546000\n",
      "Epoch  8, CIFAR-10 Batch 5:  Cost: 1.084863, Accuracy: 0.538600\n",
      "Epoch  9, CIFAR-10 Batch 1:  Cost: 1.177112, Accuracy: 0.542000\n",
      "Epoch  9, CIFAR-10 Batch 2:  Cost: 1.004354, Accuracy: 0.567800\n",
      "Epoch  9, CIFAR-10 Batch 3:  Cost: 0.661493, Accuracy: 0.556400\n",
      "Epoch  9, CIFAR-10 Batch 4:  Cost: 0.845021, Accuracy: 0.558600\n",
      "Epoch  9, CIFAR-10 Batch 5:  Cost: 0.888506, Accuracy: 0.573800\n",
      "Epoch 10, CIFAR-10 Batch 1:  Cost: 1.025072, Accuracy: 0.559800\n",
      "Epoch 10, CIFAR-10 Batch 2:  Cost: 0.880009, Accuracy: 0.576400\n",
      "Epoch 10, CIFAR-10 Batch 3:  Cost: 0.567855, Accuracy: 0.586600\n",
      "Epoch 10, CIFAR-10 Batch 4:  Cost: 0.673094, Accuracy: 0.586200\n",
      "Epoch 10, CIFAR-10 Batch 5:  Cost: 0.764970, Accuracy: 0.596200\n",
      "Epoch 11, CIFAR-10 Batch 1:  Cost: 0.864232, Accuracy: 0.572600\n",
      "Epoch 11, CIFAR-10 Batch 2:  Cost: 0.795087, Accuracy: 0.594600\n",
      "Epoch 11, CIFAR-10 Batch 3:  Cost: 0.447764, Accuracy: 0.588600\n",
      "Epoch 11, CIFAR-10 Batch 4:  Cost: 0.588623, Accuracy: 0.600600\n",
      "Epoch 11, CIFAR-10 Batch 5:  Cost: 0.629055, Accuracy: 0.604200\n",
      "Epoch 12, CIFAR-10 Batch 1:  Cost: 0.715015, Accuracy: 0.596600\n",
      "Epoch 12, CIFAR-10 Batch 2:  Cost: 0.689293, Accuracy: 0.598000\n",
      "Epoch 12, CIFAR-10 Batch 3:  Cost: 0.471147, Accuracy: 0.598000\n",
      "Epoch 12, CIFAR-10 Batch 4:  Cost: 0.458289, Accuracy: 0.614800\n",
      "Epoch 12, CIFAR-10 Batch 5:  Cost: 0.490569, Accuracy: 0.598400\n",
      "Epoch 13, CIFAR-10 Batch 1:  Cost: 0.622816, Accuracy: 0.611200\n",
      "Epoch 13, CIFAR-10 Batch 2:  Cost: 0.596254, Accuracy: 0.606200\n",
      "Epoch 13, CIFAR-10 Batch 3:  Cost: 0.289541, Accuracy: 0.611600\n",
      "Epoch 13, CIFAR-10 Batch 4:  Cost: 0.359890, Accuracy: 0.623400\n",
      "Epoch 13, CIFAR-10 Batch 5:  Cost: 0.352408, Accuracy: 0.610400\n",
      "Epoch 14, CIFAR-10 Batch 1:  Cost: 0.564063, Accuracy: 0.626200\n",
      "Epoch 14, CIFAR-10 Batch 2:  Cost: 0.479416, Accuracy: 0.618400\n",
      "Epoch 14, CIFAR-10 Batch 3:  Cost: 0.241979, Accuracy: 0.619800\n",
      "Epoch 14, CIFAR-10 Batch 4:  Cost: 0.234455, Accuracy: 0.625800\n",
      "Epoch 14, CIFAR-10 Batch 5:  Cost: 0.325167, Accuracy: 0.631400\n",
      "Epoch 15, CIFAR-10 Batch 1:  Cost: 0.472617, Accuracy: 0.626200\n",
      "Epoch 15, CIFAR-10 Batch 2:  Cost: 0.376776, Accuracy: 0.625600\n",
      "Epoch 15, CIFAR-10 Batch 3:  Cost: 0.166712, Accuracy: 0.617200\n",
      "Epoch 15, CIFAR-10 Batch 4:  Cost: 0.206175, Accuracy: 0.621200\n",
      "Epoch 15, CIFAR-10 Batch 5:  Cost: 0.204782, Accuracy: 0.619400\n",
      "Epoch 16, CIFAR-10 Batch 1:  Cost: 0.448756, Accuracy: 0.628600\n",
      "Epoch 16, CIFAR-10 Batch 2:  Cost: 0.322124, Accuracy: 0.627600\n",
      "Epoch 16, CIFAR-10 Batch 3:  Cost: 0.132131, Accuracy: 0.623000\n",
      "Epoch 16, CIFAR-10 Batch 4:  Cost: 0.151551, Accuracy: 0.629200\n",
      "Epoch 16, CIFAR-10 Batch 5:  Cost: 0.161570, Accuracy: 0.622000\n",
      "Epoch 17, CIFAR-10 Batch 1:  Cost: 0.364120, Accuracy: 0.618400\n",
      "Epoch 17, CIFAR-10 Batch 2:  Cost: 0.272469, Accuracy: 0.632600\n",
      "Epoch 17, CIFAR-10 Batch 3:  Cost: 0.092557, Accuracy: 0.635200\n",
      "Epoch 17, CIFAR-10 Batch 4:  Cost: 0.125069, Accuracy: 0.624800\n",
      "Epoch 17, CIFAR-10 Batch 5:  Cost: 0.117917, Accuracy: 0.626400\n",
      "Epoch 18, CIFAR-10 Batch 1:  Cost: 0.279200, Accuracy: 0.628200\n",
      "Epoch 18, CIFAR-10 Batch 2:  Cost: 0.196530, Accuracy: 0.632000\n",
      "Epoch 18, CIFAR-10 Batch 3:  Cost: 0.086071, Accuracy: 0.620200\n",
      "Epoch 18, CIFAR-10 Batch 4:  Cost: 0.108567, Accuracy: 0.626000\n",
      "Epoch 18, CIFAR-10 Batch 5:  Cost: 0.097079, Accuracy: 0.631400\n",
      "Epoch 19, CIFAR-10 Batch 1:  Cost: 0.249035, Accuracy: 0.622000\n",
      "Epoch 19, CIFAR-10 Batch 2:  Cost: 0.130179, Accuracy: 0.602800\n",
      "Epoch 19, CIFAR-10 Batch 3:  Cost: 0.062202, Accuracy: 0.615200\n",
      "Epoch 19, CIFAR-10 Batch 4:  Cost: 0.043049, Accuracy: 0.613000\n",
      "Epoch 19, CIFAR-10 Batch 5:  Cost: 0.100966, Accuracy: 0.627200\n",
      "Epoch 20, CIFAR-10 Batch 1:  Cost: 0.216873, Accuracy: 0.627600\n",
      "Epoch 20, CIFAR-10 Batch 2:  Cost: 0.088438, Accuracy: 0.612800\n",
      "Epoch 20, CIFAR-10 Batch 3:  Cost: 0.038948, Accuracy: 0.624800\n",
      "Epoch 20, CIFAR-10 Batch 4:  Cost: 0.032847, Accuracy: 0.621400\n",
      "Epoch 20, CIFAR-10 Batch 5:  Cost: 0.056139, Accuracy: 0.630200\n",
      "Epoch 21, CIFAR-10 Batch 1:  Cost: 0.185208, Accuracy: 0.631600\n",
      "Epoch 21, CIFAR-10 Batch 2:  Cost: 0.041376, Accuracy: 0.613200\n",
      "Epoch 21, CIFAR-10 Batch 3:  Cost: 0.018395, Accuracy: 0.633400\n",
      "Epoch 21, CIFAR-10 Batch 4:  Cost: 0.020238, Accuracy: 0.619600\n",
      "Epoch 21, CIFAR-10 Batch 5:  Cost: 0.033330, Accuracy: 0.628600\n",
      "Epoch 22, CIFAR-10 Batch 1:  Cost: 0.080695, Accuracy: 0.630200\n",
      "Epoch 22, CIFAR-10 Batch 2:  Cost: 0.027518, Accuracy: 0.629800\n",
      "Epoch 22, CIFAR-10 Batch 3:  Cost: 0.015657, Accuracy: 0.635000\n",
      "Epoch 22, CIFAR-10 Batch 4:  Cost: 0.019615, Accuracy: 0.630600\n",
      "Epoch 22, CIFAR-10 Batch 5:  Cost: 0.020035, Accuracy: 0.631000\n",
      "Epoch 23, CIFAR-10 Batch 1:  Cost: 0.071391, Accuracy: 0.617000\n",
      "Epoch 23, CIFAR-10 Batch 2:  Cost: 0.020322, Accuracy: 0.603000\n",
      "Epoch 23, CIFAR-10 Batch 3:  Cost: 0.009602, Accuracy: 0.631200\n",
      "Epoch 23, CIFAR-10 Batch 4:  Cost: 0.030217, Accuracy: 0.621200\n",
      "Epoch 23, CIFAR-10 Batch 5:  Cost: 0.016948, Accuracy: 0.628000\n",
      "Epoch 24, CIFAR-10 Batch 1:  Cost: 0.030354, Accuracy: 0.603800\n",
      "Epoch 24, CIFAR-10 Batch 2:  Cost: 0.013174, Accuracy: 0.626400\n",
      "Epoch 24, CIFAR-10 Batch 3:  Cost: 0.004704, Accuracy: 0.623200\n",
      "Epoch 24, CIFAR-10 Batch 4:  Cost: 0.045956, Accuracy: 0.627200\n",
      "Epoch 24, CIFAR-10 Batch 5:  Cost: 0.014730, Accuracy: 0.634800\n",
      "Epoch 25, CIFAR-10 Batch 1:  Cost: 0.010937, Accuracy: 0.618400\n",
      "Epoch 25, CIFAR-10 Batch 2:  Cost: 0.012119, Accuracy: 0.610800\n",
      "Epoch 25, CIFAR-10 Batch 3:  Cost: 0.007692, Accuracy: 0.630600\n",
      "Epoch 25, CIFAR-10 Batch 4:  Cost: 0.019159, Accuracy: 0.625000\n",
      "Epoch 25, CIFAR-10 Batch 5:  Cost: 0.013872, Accuracy: 0.638600\n",
      "Epoch 26, CIFAR-10 Batch 1:  Cost: 0.008061, Accuracy: 0.630800\n",
      "Epoch 26, CIFAR-10 Batch 2:  Cost: 0.008885, Accuracy: 0.623200\n",
      "Epoch 26, CIFAR-10 Batch 3:  Cost: 0.004039, Accuracy: 0.638400\n",
      "Epoch 26, CIFAR-10 Batch 4:  Cost: 0.005076, Accuracy: 0.631400\n",
      "Epoch 26, CIFAR-10 Batch 5:  Cost: 0.009063, Accuracy: 0.630400\n",
      "Epoch 27, CIFAR-10 Batch 1:  Cost: 0.018112, Accuracy: 0.635600\n",
      "Epoch 27, CIFAR-10 Batch 2:  Cost: 0.011549, Accuracy: 0.614000\n",
      "Epoch 27, CIFAR-10 Batch 3:  Cost: 0.008531, Accuracy: 0.642200\n",
      "Epoch 27, CIFAR-10 Batch 4:  Cost: 0.009428, Accuracy: 0.630000\n",
      "Epoch 27, CIFAR-10 Batch 5:  Cost: 0.006098, Accuracy: 0.653600\n",
      "Epoch 28, CIFAR-10 Batch 1:  Cost: 0.017933, Accuracy: 0.643800\n",
      "Epoch 28, CIFAR-10 Batch 2:  Cost: 0.006765, Accuracy: 0.594800\n",
      "Epoch 28, CIFAR-10 Batch 3:  Cost: 0.010667, Accuracy: 0.634400\n",
      "Epoch 28, CIFAR-10 Batch 4:  Cost: 0.003464, Accuracy: 0.641800\n",
      "Epoch 28, CIFAR-10 Batch 5:  Cost: 0.003916, Accuracy: 0.640600\n",
      "Epoch 29, CIFAR-10 Batch 1:  Cost: 0.012439, Accuracy: 0.636600\n",
      "Epoch 29, CIFAR-10 Batch 2:  Cost: 0.001310, Accuracy: 0.609400\n",
      "Epoch 29, CIFAR-10 Batch 3:  Cost: 0.001301, Accuracy: 0.638200\n",
      "Epoch 29, CIFAR-10 Batch 4:  Cost: 0.019991, Accuracy: 0.629400\n",
      "Epoch 29, CIFAR-10 Batch 5:  Cost: 0.008184, Accuracy: 0.637400\n",
      "Epoch 30, CIFAR-10 Batch 1:  Cost: 0.014406, Accuracy: 0.630800\n",
      "Epoch 30, CIFAR-10 Batch 2:  Cost: 0.008783, Accuracy: 0.610200\n",
      "Epoch 30, CIFAR-10 Batch 3:  Cost: 0.003688, Accuracy: 0.639400\n",
      "Epoch 30, CIFAR-10 Batch 4:  Cost: 0.009106, Accuracy: 0.634000\n",
      "Epoch 30, CIFAR-10 Batch 5:  Cost: 0.002248, Accuracy: 0.626600\n",
      "Epoch 31, CIFAR-10 Batch 1:  Cost: 0.006658, Accuracy: 0.624400\n",
      "Epoch 31, CIFAR-10 Batch 2:  Cost: 0.001101, Accuracy: 0.635600\n",
      "Epoch 31, CIFAR-10 Batch 3:  Cost: 0.000562, Accuracy: 0.648800\n",
      "Epoch 31, CIFAR-10 Batch 4:  Cost: 0.002815, Accuracy: 0.629400\n",
      "Epoch 31, CIFAR-10 Batch 5:  Cost: 0.007029, Accuracy: 0.649400\n",
      "Epoch 32, CIFAR-10 Batch 1:  Cost: 0.006592, Accuracy: 0.626400\n",
      "Epoch 32, CIFAR-10 Batch 2:  Cost: 0.002525, Accuracy: 0.636200\n",
      "Epoch 32, CIFAR-10 Batch 3:  Cost: 0.000771, Accuracy: 0.631600\n",
      "Epoch 32, CIFAR-10 Batch 4:  Cost: 0.001887, Accuracy: 0.625600\n",
      "Epoch 32, CIFAR-10 Batch 5:  Cost: 0.003578, Accuracy: 0.641200\n",
      "Epoch 33, CIFAR-10 Batch 1:  Cost: 0.008053, Accuracy: 0.645400\n",
      "Epoch 33, CIFAR-10 Batch 2:  Cost: 0.001378, Accuracy: 0.647400\n",
      "Epoch 33, CIFAR-10 Batch 3:  Cost: 0.010892, Accuracy: 0.640400\n",
      "Epoch 33, CIFAR-10 Batch 4:  Cost: 0.000442, Accuracy: 0.617400\n",
      "Epoch 33, CIFAR-10 Batch 5:  Cost: 0.002715, Accuracy: 0.644800\n",
      "Epoch 34, CIFAR-10 Batch 1:  Cost: 0.004272, Accuracy: 0.652000\n",
      "Epoch 34, CIFAR-10 Batch 2:  Cost: 0.000725, Accuracy: 0.640600\n",
      "Epoch 34, CIFAR-10 Batch 3:  Cost: 0.002114, Accuracy: 0.653800\n",
      "Epoch 34, CIFAR-10 Batch 4:  Cost: 0.000355, Accuracy: 0.626000\n",
      "Epoch 34, CIFAR-10 Batch 5:  Cost: 0.000459, Accuracy: 0.635800\n",
      "Epoch 35, CIFAR-10 Batch 1:  Cost: 0.001122, Accuracy: 0.641800\n",
      "Epoch 35, CIFAR-10 Batch 2:  Cost: 0.000672, Accuracy: 0.635200\n",
      "Epoch 35, CIFAR-10 Batch 3:  Cost: 0.001951, Accuracy: 0.644800\n",
      "Epoch 35, CIFAR-10 Batch 4:  Cost: 0.001437, Accuracy: 0.637600\n",
      "Epoch 35, CIFAR-10 Batch 5:  Cost: 0.004949, Accuracy: 0.643200\n",
      "Epoch 36, CIFAR-10 Batch 1:  Cost: 0.000557, Accuracy: 0.643800\n",
      "Epoch 36, CIFAR-10 Batch 2:  Cost: 0.001514, Accuracy: 0.647200\n",
      "Epoch 36, CIFAR-10 Batch 3:  Cost: 0.000675, Accuracy: 0.640000\n",
      "Epoch 36, CIFAR-10 Batch 4:  Cost: 0.000255, Accuracy: 0.643600\n",
      "Epoch 36, CIFAR-10 Batch 5:  Cost: 0.000867, Accuracy: 0.642200\n",
      "Epoch 37, CIFAR-10 Batch 1:  Cost: 0.002887, Accuracy: 0.637400\n",
      "Epoch 37, CIFAR-10 Batch 2:  Cost: 0.000176, Accuracy: 0.639800\n",
      "Epoch 37, CIFAR-10 Batch 3:  Cost: 0.000241, Accuracy: 0.641800\n",
      "Epoch 37, CIFAR-10 Batch 4:  Cost: 0.001621, Accuracy: 0.648400\n",
      "Epoch 37, CIFAR-10 Batch 5:  Cost: 0.000493, Accuracy: 0.633600\n",
      "Epoch 38, CIFAR-10 Batch 1:  Cost: 0.005533, Accuracy: 0.647000\n",
      "Epoch 38, CIFAR-10 Batch 2:  Cost: 0.002222, Accuracy: 0.636800\n",
      "Epoch 38, CIFAR-10 Batch 3:  Cost: 0.001319, Accuracy: 0.645600\n",
      "Epoch 38, CIFAR-10 Batch 4:  Cost: 0.000392, Accuracy: 0.643400\n",
      "Epoch 38, CIFAR-10 Batch 5:  Cost: 0.001647, Accuracy: 0.648800\n",
      "Epoch 39, CIFAR-10 Batch 1:  Cost: 0.003115, Accuracy: 0.643600\n",
      "Epoch 39, CIFAR-10 Batch 2:  Cost: 0.000795, Accuracy: 0.640200\n",
      "Epoch 39, CIFAR-10 Batch 3:  Cost: 0.000277, Accuracy: 0.652400\n",
      "Epoch 39, CIFAR-10 Batch 4:  Cost: 0.000072, Accuracy: 0.641000\n",
      "Epoch 39, CIFAR-10 Batch 5:  Cost: 0.001006, Accuracy: 0.644600\n",
      "Epoch 40, CIFAR-10 Batch 1:  Cost: 0.002877, Accuracy: 0.650800\n",
      "Epoch 40, CIFAR-10 Batch 2:  Cost: 0.000166, Accuracy: 0.640600\n",
      "Epoch 40, CIFAR-10 Batch 3:  Cost: 0.000042, Accuracy: 0.650000\n",
      "Epoch 40, CIFAR-10 Batch 4:  Cost: 0.000135, Accuracy: 0.641400\n",
      "Epoch 40, CIFAR-10 Batch 5:  Cost: 0.002903, Accuracy: 0.641600\n"
     ]
    }
   ],
   "source": [
    "\"\"\"\n",
    "DON'T MODIFY ANYTHING IN THIS CELL\n",
    "\"\"\"\n",
    "save_model_path = './image_classification'\n",
    "\n",
    "print('Training...')\n",
    "with tf.Session() as sess:\n",
    "    # Initializing the variables\n",
    "    sess.run(tf.global_variables_initializer())\n",
    "    \n",
    "    # Training cycle\n",
    "    for epoch in range(epochs):\n",
    "        # Loop over all batches\n",
    "        n_batches = 5\n",
    "        for batch_i in range(1, n_batches + 1):\n",
    "            for batch_features, batch_labels in helper.load_preprocess_training_batch(batch_i, batch_size):\n",
    "                train_neural_network(sess, optimizer, keep_probability, batch_features, batch_labels)\n",
    "            print('Epoch {:>2}, CIFAR-10 Batch {}:  '.format(epoch + 1, batch_i), end='')\n",
    "            print_stats(sess, batch_features, batch_labels, cost, accuracy)\n",
    "            \n",
    "    # Save Model\n",
    "    saver = tf.train.Saver()\n",
    "    save_path = saver.save(sess, save_model_path)"
   ]
  },
  {
   "cell_type": "markdown",
   "metadata": {
    "deletable": true,
    "editable": true
   },
   "source": [
    "# Checkpoint\n",
    "The model has been saved to disk.\n",
    "## Test Model\n",
    "Test your model against the test dataset.  This will be your final accuracy. You should have an accuracy greater than 50%. If you don't, keep tweaking the model architecture and parameters."
   ]
  },
  {
   "cell_type": "code",
   "execution_count": 48,
   "metadata": {
    "collapsed": false,
    "deletable": true,
    "editable": true
   },
   "outputs": [
    {
     "name": "stdout",
     "output_type": "stream",
     "text": [
      "Testing Accuracy: 0.643690664556962\n",
      "\n"
     ]
    },
    {
     "data": {
      "image/png": "[encoded data removed]",
      "text/plain": [
       "<matplotlib.figure.Figure at 0x7fd55e56c080>"
      ]
     },
     "metadata": {
      "image/png": {
       "height": 319,
       "width": 355
      }
     },
     "output_type": "display_data"
    }
   ],
   "source": [
    "\"\"\"\n",
    "DON'T MODIFY ANYTHING IN THIS CELL\n",
    "\"\"\"\n",
    "%matplotlib inline\n",
    "%config InlineBackend.figure_format = 'retina'\n",
    "\n",
    "import tensorflow as tf\n",
    "import pickle\n",
    "import helper\n",
    "import random\n",
    "\n",
    "# Set batch size if not already set\n",
    "try:\n",
    "    if batch_size:\n",
    "        pass\n",
    "except NameError:\n",
    "    batch_size = 64\n",
    "\n",
    "save_model_path = './image_classification'\n",
    "n_samples = 4\n",
    "top_n_predictions = 3\n",
    "\n",
    "def test_model():\n",
    "    \"\"\"\n",
    "    Test the saved model against the test dataset\n",
    "    \"\"\"\n",
    "\n",
    "    test_features, test_labels = pickle.load(open('preprocess_training.p', mode='rb'))\n",
    "    loaded_graph = tf.Graph()\n",
    "\n",
    "    with tf.Session(graph=loaded_graph) as sess:\n",
    "        # Load model\n",
    "        loader = tf.train.import_meta_graph(save_model_path + '.meta')\n",
    "        loader.restore(sess, save_model_path)\n",
    "\n",
    "        # Get Tensors from loaded model\n",
    "        loaded_x = loaded_graph.get_tensor_by_name('x:0')\n",
    "        loaded_y = loaded_graph.get_tensor_by_name('y:0')\n",
    "        loaded_keep_prob = loaded_graph.get_tensor_by_name('keep_prob:0')\n",
    "        loaded_logits = loaded_graph.get_tensor_by_name('logits:0')\n",
    "        loaded_acc = loaded_graph.get_tensor_by_name('accuracy:0')\n",
    "        \n",
    "        # Get accuracy in batches for memory limitations\n",
    "        test_batch_acc_total = 0\n",
    "        test_batch_count = 0\n",
    "        \n",
    "        for train_feature_batch, train_label_batch in helper.batch_features_labels(test_features, test_labels, batch_size):\n",
    "            test_batch_acc_total += sess.run(\n",
    "                loaded_acc,\n",
    "                feed_dict={loaded_x: train_feature_batch, loaded_y: train_label_batch, loaded_keep_prob: 1.0})\n",
    "            test_batch_count += 1\n",
    "\n",
    "        print('Testing Accuracy: {}\\n'.format(test_batch_acc_total/test_batch_count))\n",
    "\n",
    "        # Print Random Samples\n",
    "        random_test_features, random_test_labels = tuple(zip(*random.sample(list(zip(test_features, test_labels)), n_samples)))\n",
    "        random_test_predictions = sess.run(\n",
    "            tf.nn.top_k(tf.nn.softmax(loaded_logits), top_n_predictions),\n",
    "            feed_dict={loaded_x: random_test_features, loaded_y: random_test_labels, loaded_keep_prob: 1.0})\n",
    "        helper.display_image_predictions(random_test_features, random_test_labels, random_test_predictions)\n",
    "\n",
    "\n",
    "test_model()"
   ]
  },
  {
   "cell_type": "markdown",
   "metadata": {
    "deletable": true,
    "editable": true
   },
   "source": [
    "## Why 50-70% Accuracy?\n",
    "You might be wondering why you can't get an accuracy any higher. First things first, 50% isn't bad for a simple CNN.  Pure guessing would get you 10% accuracy. However, you might notice people are getting scores [well above 70%](http://rodrigob.github.io/are_we_there_yet/build/classification_datasets_results.html#43494641522d3130).  That's because we haven't taught you all there is to know about neural networks. We still need to cover a few more techniques.\n",
    "## Submitting This Project\n",
    "When submitting this project, make sure to run all the cells before saving the notebook.  Save the notebook file as \"dlnd_image_classification.ipynb\" and save it as a HTML file under \"File\" -> \"Download as\".  Include the \"helper.py\" and \"problem_unittests.py\" files in your submission."
   ]
  }
 ],
 "metadata": {
  "kernelspec": {
   "display_name": "Python 3",
   "language": "python",
   "name": "python3"
  },
  "language_info": {
   "codemirror_mode": {
    "name": "ipython",
    "version": 3
   },
   "file_extension": ".py",
   "mimetype": "text/x-python",
   "name": "python",
   "nbconvert_exporter": "python",
   "pygments_lexer": "ipython3",
   "version": "3.5.2"
  },
  "widgets": {
   "state": {},
   "version": "1.1.2"
  }
 },
 "nbformat": 4,
 "nbformat_minor": 0
}
